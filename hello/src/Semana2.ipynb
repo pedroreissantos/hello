{
 "cells": [
  {
   "cell_type": "markdown",
   "metadata": {
    "slideshow": {
     "slide_type": "slide"
    }
   },
   "source": [
    "# <center>Programming Foundations <br/> @ LEIC/LETI</center>\n",
    "\n",
    "<br>\n",
    "<br>\n",
    "\n",
    "## <center>Week 2</center>"
   ]
  },
  {
   "cell_type": "markdown",
   "metadata": {
    "slideshow": {
     "slide_type": "slide"
    }
   },
   "source": [
    "# <center>Previously on FP</center>\n",
    "\n",
    "- Computers and programming languages\n",
    "- Algorithms\n",
    "- Programs \n",
    "- Lexicon, Syntax and Semantics. Errors. \n",
    "- BNF"
   ]
  },
  {
   "cell_type": "markdown",
   "metadata": {
    "slideshow": {
     "slide_type": "slide"
    }
   },
   "source": [
    "**Sidenote:** For simplicity of demonstration, in the lectures, I will be using [Jupyter Notebooks](http://jupyter.org/). All the examples work using either the Python Shell or any IDE (such as, PyCharm or Wing101). \n",
    "\n",
    "<br>\n",
    "\n",
    "<center>![shell](imgs/shell.png)</center>\n"
   ]
  },
  {
   "cell_type": "markdown",
   "metadata": {
    "slideshow": {
     "slide_type": "slide"
    }
   },
   "source": [
    "# <center>Basic Programming Elements</center>\n",
    "\n",
    "<br>\n",
    "\n",
    "# <center>¿¿¿ Why Python ???</center>\n",
    "\n",
    "<br>\n",
    "<br>\n",
    "\n",
    "<center>![pythonvsjava](imgs/pythonVsJava.jpg)</center>\n"
   ]
  },
  {
   "cell_type": "markdown",
   "metadata": {
    "slideshow": {
     "slide_type": "slide"
    }
   },
   "source": [
    "#### Reasons: \n",
    "- Easy to learn\n",
    "- Efficient and Fast\n",
    "- Strongly and dynamically typed\n",
    "- Offers multiple paradigms (functional, object-oriented, imperative, ...)\n",
    "- Widely used\n",
    "- Portable\n",
    "\n",
    "\n",
    "\n",
    "- C is much faster, but much more difficult to master\n",
    "- Java is about as fast, but harder to use, and verbose. "
   ]
  },
  {
   "cell_type": "markdown",
   "metadata": {
    "slideshow": {
     "slide_type": "slide"
    }
   },
   "source": [
    "## <center>Expressions</center>\n",
    "\n",
    "<br/>\n",
    "<br/>\n",
    "\n",
    "<center>```<expression> ::= <constant> | <composed expression> | <name> | <function>```</center>\n",
    "\n",
    "\n",
    "<br/>\n",
    "<br/>\n",
    "<br/>\n",
    "PS - BNFs of the different non-terminal symbols can be found in the book. "
   ]
  },
  {
   "cell_type": "markdown",
   "metadata": {
    "slideshow": {
     "slide_type": "slide"
    }
   },
   "source": [
    "## Expressions: constants\n",
    "\n",
    "- Numbers\n",
    "    - 2016\n",
    "    - 2\n",
    "    - 2.0\n",
    "    - -2.0\n",
    "    - +2.0\n",
    "    - 10e-12\n",
    "    - 655484877641416186376754588877162243232221200091999228887333\n",
    "    - 0.00000000000000000000000000000000000001"
   ]
  },
  {
   "cell_type": "code",
   "execution_count": 1,
   "metadata": {
    "slideshow": {
     "slide_type": "slide"
    }
   },
   "outputs": [
    {
     "data": {
      "text/plain": [
       "1e-38"
      ]
     },
     "execution_count": 1,
     "metadata": {},
     "output_type": "execute_result"
    }
   ],
   "source": [
    "0.00000000000000000000000000000000000001"
   ]
  },
  {
   "cell_type": "markdown",
   "metadata": {
    "slideshow": {
     "slide_type": "slide"
    }
   },
   "source": [
    "- Logic values\n",
    "    - True\n",
    "    - False\n",
    "    - What about: 'true' and 'false' ?"
   ]
  },
  {
   "cell_type": "code",
   "execution_count": 2,
   "metadata": {
    "slideshow": {
     "slide_type": "slide"
    }
   },
   "outputs": [
    {
     "data": {
      "text/plain": [
       "True"
      ]
     },
     "execution_count": 2,
     "metadata": {},
     "output_type": "execute_result"
    }
   ],
   "source": [
    "True"
   ]
  },
  {
   "cell_type": "code",
   "execution_count": 3,
   "metadata": {
    "slideshow": {
     "slide_type": "subslide"
    }
   },
   "outputs": [
    {
     "ename": "NameError",
     "evalue": "name 'true' is not defined",
     "output_type": "error",
     "traceback": [
      "\u001b[0;31m---------------------------------------------------------------------------\u001b[0m",
      "\u001b[0;31mNameError\u001b[0m                                 Traceback (most recent call last)",
      "\u001b[0;32m<ipython-input-3-74d9a83219ca>\u001b[0m in \u001b[0;36m<module>\u001b[0;34m()\u001b[0m\n\u001b[0;32m----> 1\u001b[0;31m \u001b[0mtrue\u001b[0m\u001b[0;34m\u001b[0m\u001b[0m\n\u001b[0m",
      "\u001b[0;31mNameError\u001b[0m: name 'true' is not defined"
     ]
    }
   ],
   "source": [
    "true"
   ]
  },
  {
   "cell_type": "markdown",
   "metadata": {
    "slideshow": {
     "slide_type": "slide"
    }
   },
   "source": [
    "- Strings\n",
    "    - 'Hello'\n",
    "    - \"Hello\""
   ]
  },
  {
   "cell_type": "code",
   "execution_count": 4,
   "metadata": {
    "slideshow": {
     "slide_type": "slide"
    }
   },
   "outputs": [
    {
     "data": {
      "text/plain": [
       "'Hello'"
      ]
     },
     "execution_count": 4,
     "metadata": {},
     "output_type": "execute_result"
    }
   ],
   "source": [
    "\"Hello\""
   ]
  },
  {
   "cell_type": "code",
   "execution_count": 5,
   "metadata": {
    "slideshow": {
     "slide_type": "subslide"
    }
   },
   "outputs": [
    {
     "data": {
      "text/plain": [
       "'Hello'"
      ]
     },
     "execution_count": 5,
     "metadata": {},
     "output_type": "execute_result"
    }
   ],
   "source": [
    "'Hello'"
   ]
  },
  {
   "cell_type": "markdown",
   "metadata": {
    "slideshow": {
     "slide_type": "slide"
    }
   },
   "source": [
    "## Expressions: composed\n",
    "\n",
    "<br/>\n",
    "\n",
    "\n",
    "```<composed expression> ::=\n",
    "    <operator> <expression> |\n",
    "    <operator> (<expression>) |\n",
    "    <expression> <operator> <expression> |\n",
    "    (<expression> <operator> <expression>)```\n",
    "    \n",
    "<br/>\n",
    "\n",
    "- 2012 - 1958\n",
    "- 3 * (24 + 12)\n",
    "- 3.0 * (24 + 12)\n",
    "- 7 > 12\n",
    "- 23 / 7 * 5 + 12.5"
   ]
  },
  {
   "cell_type": "code",
   "execution_count": 43,
   "metadata": {
    "slideshow": {
     "slide_type": "slide"
    }
   },
   "outputs": [
    {
     "data": {
      "text/plain": [
       "3.2857142857142856"
      ]
     },
     "execution_count": 43,
     "metadata": {},
     "output_type": "execute_result"
    }
   ],
   "source": [
    "23 / 7"
   ]
  },
  {
   "cell_type": "markdown",
   "metadata": {
    "slideshow": {
     "slide_type": "slide"
    }
   },
   "source": [
    "## Operands priority\n",
    "\n",
    "\n",
    "### Rule #1\n",
    "- Highest precedence at top, lowest at bottom.\n",
    "\n",
    "<center>\n",
    "                  \n",
    "          \n",
    "       \n",
    "          <table border=\"1\" cellspacing=\"0\" width=\"80%\" cellpadding=\"2\" style=\"border-collapse: collapse\" bordercolor=\"#111111\">\n",
    "\n",
    "            <tr>\n",
    "              <th>\n",
    "                <p align=\"center\"><b>Operator</b></p>\n",
    "              </th>\n",
    "              <th>\n",
    "                <b>Description</b></th>\n",
    "            </tr>\n",
    "  <center>\n",
    "\n",
    "            <tr>\n",
    "              <td align=\"center\"><font face=\"Courier New\" size=\"2\">()</font></td>\n",
    "              <td>Parentheses (grouping)</td>\n",
    "            </tr>\n",
    "            <tr>\n",
    "              <td align=\"center\"><font face=\"Courier New\" size=\"2\"><i>f</i>(args...)</font></td>\n",
    "              <td>Function call</td>\n",
    "\n",
    "            </tr>\n",
    "            <tr>\n",
    "              <td align=\"center\"><font face=\"Courier New\" size=\"2\"><i>x</i>[index:index]</font></td>\n",
    "              <td>Slicing</td>\n",
    "            </tr>\n",
    "            <tr>\n",
    "              <td align=\"center\"><font face=\"Courier New\" size=\"2\"><i>x</i>[index]</font></td>\n",
    "\n",
    "              <td>Subscription</td>\n",
    "            </tr>\n",
    "            <tr>\n",
    "              <td align=\"center\"><i><font face=\"Courier New\" size=\"2\">\n",
    "\t\t\t\tx.attribute</font></i></td>\n",
    "              <td>Attribute reference</td>\n",
    "            </tr>\n",
    "\n",
    "            <tr>\n",
    "              <td align=\"center\"><font face=\"Courier New\" size=\"2\">**</font></td>\n",
    "              <td>Exponentiation</td>\n",
    "            </tr>\n",
    "            <tr>\n",
    "              <td align=\"center\"><font face=\"Courier New\" size=\"2\">~<i>x</i></font></td>\n",
    "              <td>Bitwise not</td>\n",
    "\n",
    "            </tr>\n",
    "            <tr>\n",
    "              <td align=\"center\"><font face=\"Courier New\" size=\"2\">+<i>x</i>, -<i>x</i></font></td>\n",
    "              <td>Positive, negative</td>\n",
    "            </tr>\n",
    "            <tr>\n",
    "\n",
    "              <td align=\"center\"><font face=\"Courier New\" size=\"2\">*, /,\n",
    "              %</font></td>\n",
    "              <td>Multiplication, division, remainder </td>\n",
    "            </tr>\n",
    "            <tr>\n",
    "              <td align=\"center\"><font face=\"Courier New\" size=\"2\">+,\n",
    "              -</font></td>\n",
    "              <td>Addition, subtraction</td>\n",
    "            </tr>\n",
    "\n",
    "            <tr>\n",
    "              <td align=\"center\"><font face=\"Courier New\" size=\"2\">&lt;&lt;,\n",
    "              &gt;&gt;</font></td>\n",
    "              <td>Bitwise shifts</td>\n",
    "            </tr>\n",
    "            <tr>\n",
    "              <td align=\"center\"><font face=\"Courier New\" size=\"2\">&amp;</font></td>\n",
    "              <td>Bitwise AND</td>\n",
    "\n",
    "            </tr>\n",
    "            <tr>\n",
    "              <td align=\"center\"><font face=\"Courier New\" size=\"2\">^</font></td>\n",
    "              <td>Bitwise XOR</td>\n",
    "            </tr>\n",
    "            <tr>\n",
    "              <td align=\"center\"><font face=\"Courier New\" size=\"2\">|</font></td>\n",
    "\n",
    "              <td>Bitwise OR</td>\n",
    "            </tr>\n",
    "\n",
    "            <tr>\n",
    "              <td align=\"center\"><font face=\"Courier New\"\n",
    "\t\tsize=\"2\">in, not in, is, is not, &lt;, &lt;=,&nbsp;  \n",
    "\t\t\t\t&gt;,&nbsp; &gt;=,<br>\n",
    "\t\t\t\t&lt;&gt;, !=, ==</font></td>\n",
    "\n",
    "              <td>Comparisons, membership, identity</td>\n",
    "            </tr>\n",
    "            \n",
    "<tr>              <td align=\"center\"><font face=\"Courier New\" size=\"2\">not <i>x</i></font></td>\n",
    "              <td>Boolean NOT</td>\n",
    "\n",
    "            </tr>\n",
    "            <tr>\n",
    "              <td align=\"center\"><font face=\"Courier New\" size=\"2\">and</font></td>\n",
    "              <td>Boolean AND</td>\n",
    "            </tr>\n",
    "            <tr>\n",
    "              <td align=\"center\"><font face=\"Courier New\" size=\"2\">or</font></td>\n",
    "\n",
    "              <td>Boolean OR</td>\n",
    "            </tr>\n",
    "            <tr>\n",
    "              <td align=\"center\"><font face=\"Courier New\" size=\"2\">lambda</font></td>\n",
    "              <td>Lambda expression</td>\n",
    "            </tr>\n",
    "            </table>\n",
    "\n",
    "            </center>\n",
    "\n",
    "\n",
    "### Rule #2\n",
    "- if the operands have the same priority: left to right. \n",
    "\n",
    "Offical info: https://docs.python.org/3/reference/expressions.html#operator-precedence"
   ]
  },
  {
   "cell_type": "markdown",
   "metadata": {
    "slideshow": {
     "slide_type": "slide"
    }
   },
   "source": [
    "## Types\n",
    "\n",
    "Use `type(value)` to check the type of an expression.\n",
    "\n",
    "#### Integer\n",
    "- -12\n",
    "- 7 // 2\n",
    "- 7 % 2 \n",
    "- 5 * (7 // 2)\n",
    "- abs(-3)"
   ]
  },
  {
   "cell_type": "code",
   "execution_count": 7,
   "metadata": {
    "slideshow": {
     "slide_type": "slide"
    }
   },
   "outputs": [
    {
     "data": {
      "text/plain": [
       "7"
      ]
     },
     "execution_count": 7,
     "metadata": {},
     "output_type": "execute_result"
    }
   ],
   "source": [
    "int(5) + 2"
   ]
  },
  {
   "cell_type": "markdown",
   "metadata": {
    "collapsed": true,
    "slideshow": {
     "slide_type": "slide"
    }
   },
   "source": [
    "#### real\n",
    "- 7.7\n",
    "- 7.0 and 7.\n",
    "- .4\n",
    "- 200000000000000000000000000000000000.\n",
    "- .00000000000000000000000000000000000000000000000000001\n",
    "- 2.7 + 3.9 and 3.4 / 5.9\n",
    "- round(3.4)\n",
    "- int(3.4)\n",
    "- float(2)"
   ]
  },
  {
   "cell_type": "code",
   "execution_count": 8,
   "metadata": {
    "slideshow": {
     "slide_type": "slide"
    }
   },
   "outputs": [
    {
     "data": {
      "text/plain": [
       "7"
      ]
     },
     "execution_count": 8,
     "metadata": {},
     "output_type": "execute_result"
    }
   ],
   "source": [
    "int(round(2.7 + 3.9))"
   ]
  },
  {
   "cell_type": "markdown",
   "metadata": {
    "slideshow": {
     "slide_type": "slide"
    }
   },
   "source": [
    "#### logic\n",
    "- True\n",
    "- False\n",
    "- not True\n",
    "- not False\n",
    "- not 5"
   ]
  },
  {
   "cell_type": "code",
   "execution_count": 9,
   "metadata": {
    "slideshow": {
     "slide_type": "slide"
    }
   },
   "outputs": [
    {
     "data": {
      "text/plain": [
       "True"
      ]
     },
     "execution_count": 9,
     "metadata": {},
     "output_type": "execute_result"
    }
   ],
   "source": [
    "not '' #equivallent: not 0"
   ]
  },
  {
   "cell_type": "markdown",
   "metadata": {
    "slideshow": {
     "slide_type": "slide"
    }
   },
   "source": [
    "#### strings\n",
    "- 'abc'\n",
    "- \"abc\""
   ]
  },
  {
   "cell_type": "code",
   "execution_count": 10,
   "metadata": {
    "slideshow": {
     "slide_type": "slide"
    }
   },
   "outputs": [
    {
     "data": {
      "text/plain": [
       "str"
      ]
     },
     "execution_count": 10,
     "metadata": {},
     "output_type": "execute_result"
    }
   ],
   "source": [
    "type('abc')"
   ]
  },
  {
   "cell_type": "markdown",
   "metadata": {
    "slideshow": {
     "slide_type": "slide"
    }
   },
   "source": [
    "## <center>Names</center>\n",
    "\n",
    "<br/>\n",
    "<br/>\n",
    "\n",
    "\n",
    "<center>```<nome> ::= <simple name> | <indexed name> | <composed name>```</center>\n",
    "\n"
   ]
  },
  {
   "cell_type": "markdown",
   "metadata": {
    "slideshow": {
     "slide_type": "slide"
    }
   },
   "source": [
    "## Simple Names\n",
    "\n",
    "<br/>\n",
    "<br/>\n",
    "\n",
    "\n",
    "```<nome simples> ::= <inicial> <subsequente>*```\n",
    "\n",
    "```<inicial> ::=\n",
    "    _ | A | B | C | D | E | F | G | H | I | J | K | L | M |\n",
    "    N | O | P | Q | R | S | T | U | V | W | X | Y | Z |\n",
    "    a | b | c | d | e | f | g | h | i | j | k | l | m |\n",
    "    n | o | p | q | r | s | t | u | v | w | x | y | z```\n",
    "\n",
    "```<subsequente> ::= <inicial> | 0 | 1 | 2 | 3 | 4 | 5 | 6 | 7 | 8 | 9```"
   ]
  },
  {
   "cell_type": "markdown",
   "metadata": {
    "slideshow": {
     "slide_type": "slide"
    }
   },
   "source": [
    "### Keywords\n",
    "\n",
    "<br/>\n",
    "\n",
    "Cannot be associated with names.\n",
    "\n",
    "```False      class      finally    is         return\n",
    "None       continue   for        lambda     try\n",
    "True       def        from       nonlocal   while\n",
    "and        del        global     not        with\n",
    "as         elif       if         or         yield\n",
    "assert     else       import     pass\n",
    "break      except     in         raise```"
   ]
  },
  {
   "cell_type": "markdown",
   "metadata": {
    "slideshow": {
     "slide_type": "slide"
    }
   },
   "source": [
    "## <center>Attributions</center>\n",
    "\n",
    "<br/>\n",
    "<br/>\n",
    "\n",
    "<center>```<attribution instruction> ::= <name> = <expression> | <name> , <attribution instruction>, <expression>```</center>"
   ]
  },
  {
   "cell_type": "markdown",
   "metadata": {
    "slideshow": {
     "slide_type": "slide"
    }
   },
   "source": [
    "### Examples\n",
    "\n",
    "- not = 9 \n",
    "- x = 8\n",
    "- y\n",
    "- x\n",
    "- y = x * 2\n",
    "- x = 7\n",
    "\n",
    "\n",
    "- x, z = 10, 3\n",
    "- x + z\n",
    "- x, z = z, x\n",
    "- x\n",
    "- z\n",
    "- z , a = a + 3, 1"
   ]
  },
  {
   "cell_type": "code",
   "execution_count": 11,
   "metadata": {
    "slideshow": {
     "slide_type": "slide"
    }
   },
   "outputs": [
    {
     "name": "stdout",
     "output_type": "stream",
     "text": [
      "5 1\n"
     ]
    }
   ],
   "source": [
    "a = 2\n",
    "z, a = a + 3, 1\n",
    "print(z, a)"
   ]
  },
  {
   "cell_type": "markdown",
   "metadata": {
    "slideshow": {
     "slide_type": "slide"
    }
   },
   "source": [
    "## Predicates and conditions\n",
    "\n",
    "A _predicate_ is an expression that either evaluates to _true_ or _false_:\n",
    "\n",
    "- x = 8 (is this a predicate?)\n",
    "- x < 7\n",
    "- x < 7*3\n",
    "- x < 7*3 and x > 10\n",
    "- x < 7*3 < 25\n",
    "- x < 7*3 < 25 > 10\n",
    "- x < 7*3 < 25 > 100\n",
    "\n",
    "These list includes _syntactic sugar_ examples."
   ]
  },
  {
   "cell_type": "code",
   "execution_count": 12,
   "metadata": {
    "slideshow": {
     "slide_type": "slide"
    }
   },
   "outputs": [
    {
     "data": {
      "text/plain": [
       "False"
      ]
     },
     "execution_count": 12,
     "metadata": {},
     "output_type": "execute_result"
    }
   ],
   "source": [
    "x = 8\n",
    "x < 7*3 < 25 > 100\n",
    "\n",
    "# x < 7*3 ? True\n",
    "# 7*3 < 25 ? True\n",
    "# 25 > 100 ? False"
   ]
  },
  {
   "cell_type": "markdown",
   "metadata": {
    "slideshow": {
     "slide_type": "slide"
    }
   },
   "source": [
    "## <center>I/O</center>\n",
    "\n",
    "<br/>\n",
    "\n",
    "### <center>Input</center>\n",
    "\n",
    "<br/>\n",
    "\n",
    "<center>```<input> ::= input() | input(<info>)\n",
    "<info> ::= <chars>```</center>"
   ]
  },
  {
   "cell_type": "markdown",
   "metadata": {
    "slideshow": {
     "slide_type": "slide"
    }
   },
   "source": [
    "### Example:\n",
    "\n",
    "- input(\"Introduza uma expressão:\\n\\t\")\n",
    "- we can force the evaluation of a string\n",
    "    - eval('10+1')"
   ]
  },
  {
   "cell_type": "code",
   "execution_count": 46,
   "metadata": {
    "slideshow": {
     "slide_type": "slide"
    }
   },
   "outputs": [
    {
     "name": "stdout",
     "output_type": "stream",
     "text": [
      "Da-me uma expressão? 20 + 3\n",
      "<class 'str'>\n"
     ]
    },
    {
     "data": {
      "text/plain": [
       "23"
      ]
     },
     "execution_count": 46,
     "metadata": {},
     "output_type": "execute_result"
    }
   ],
   "source": [
    "'10 + 1'\n",
    "\n",
    "a = input(\"Da-me uma expressão? \")\n",
    "print(type(a))\n",
    "eval(a)"
   ]
  },
  {
   "cell_type": "markdown",
   "metadata": {
    "slideshow": {
     "slide_type": "slide"
    }
   },
   "source": [
    "### <center>Output</center>\n",
    "\n",
    "<br/>\n",
    "<br/>\n",
    "\n",
    "<center>```<output> ::= print() | print(<expressions>)\n",
    "<expressions> ::= <expression> | <expression>, <expressions>```</center>"
   ]
  },
  {
   "cell_type": "markdown",
   "metadata": {
    "slideshow": {
     "slide_type": "slide"
    }
   },
   "source": [
    "### Example (first Python program):\n",
    "\n",
    "```python\n",
    "x = eval(input(\"Introduza uma expressão:\\n\\t\"))\n",
    "\t4\n",
    "\n",
    "y = input(\"Introduza uma string:\\n\\t\")\n",
    "    olá mundo\n",
    "\n",
    "print(x, \"e\", y)\n",
    "print(str(x) + \" e \" + y)\n",
    "print(\"{0:03d} e {}\".format(x, y))```\n",
    "\n",
    "What happens to `print(x + \" e \" + y)`?"
   ]
  },
  {
   "cell_type": "code",
   "execution_count": 14,
   "metadata": {
    "slideshow": {
     "slide_type": "slide"
    }
   },
   "outputs": [
    {
     "name": "stdout",
     "output_type": "stream",
     "text": [
      "Introduza uma expressão:\n",
      "\t10+1\n",
      "Introduza uma string:\n",
      "\tola\n",
      "11 e ola\n",
      "11 e ola\n",
      "11 e ola\n"
     ]
    }
   ],
   "source": [
    "#raw_input, if in Python2\n",
    "\n",
    "x = eval(input(\"Introduza uma expressão:\\n\\t\"))\n",
    "y = input(\"Introduza uma string:\\n\\t\")\n",
    "print(x, \"e\", y)\n",
    "print(str(x) + \" e \" + y)\n",
    "print(\"{} e {}\".format(x, y))"
   ]
  },
  {
   "cell_type": "code",
   "execution_count": 53,
   "metadata": {
    "slideshow": {
     "slide_type": "slide"
    }
   },
   "outputs": [
    {
     "name": "stdout",
     "output_type": "stream",
     "text": [
      "4.12345 e 3\n",
      "4.1 e 3\n"
     ]
    }
   ],
   "source": [
    "##decimal part can be controlled within the {}\n",
    "y = 3\n",
    "print(\"{:0>2} e {}\".format(\"4.12345\", y)) # Works for both numbers and strings. \n",
    "print(\"{:02} e {}\".format(4.1, y)) # Only works for numbers."
   ]
  },
  {
   "cell_type": "markdown",
   "metadata": {
    "collapsed": true,
    "slideshow": {
     "slide_type": "slide"
    }
   },
   "source": [
    "# Make sure you're using python3! "
   ]
  },
  {
   "cell_type": "code",
   "execution_count": 54,
   "metadata": {
    "slideshow": {
     "slide_type": "slide"
    }
   },
   "outputs": [
    {
     "name": "stdout",
     "output_type": "stream",
     "text": [
      "(3, 6, 1, 'final', 0)\n"
     ]
    }
   ],
   "source": [
    "import sys; \n",
    "print(sys.version_info[:])"
   ]
  },
  {
   "cell_type": "markdown",
   "metadata": {
    "slideshow": {
     "slide_type": "slide"
    }
   },
   "source": [
    "# What's the result of the following instructions?\n",
    "\n",
    "- not True == not False ?\n",
    "- False in [False, True]\n",
    "- not(True) in [False, True]\n",
    "- (not(True)) in [False, True]\n",
    "- not(True)\n",
    "\n",
    "PS - `in` is a python operator to check whether a _value_ is in a set/sequence. "
   ]
  },
  {
   "cell_type": "code",
   "execution_count": 55,
   "metadata": {
    "slideshow": {
     "slide_type": "slide"
    }
   },
   "outputs": [
    {
     "data": {
      "text/plain": [
       "True"
      ]
     },
     "execution_count": 55,
     "metadata": {},
     "output_type": "execute_result"
    }
   ],
   "source": [
    "(not(True)) in [False, True]"
   ]
  },
  {
   "cell_type": "markdown",
   "metadata": {
    "slideshow": {
     "slide_type": "slide"
    }
   },
   "source": [
    "# <center>Programs</center>\n",
    "<br/>\n",
    "\n",
    "<center>```<program> ::= <definitions>* <sequence of instructions>```</center>\n",
    "\n",
    "<br/>\n",
    "<br/>\n",
    "<center>We will not discuss _definitions_ now.</center>\n"
   ]
  },
  {
   "cell_type": "markdown",
   "metadata": {},
   "source": [
    "# Example of a program with a sequence of Instructions\n",
    "\n",
    "```\n",
    "valor = float(input('Valor? '))\n",
    "tanb = float(input('TANB (%)? '))\n",
    "juros = valor*tanb/100\n",
    "print('Juros:', juros)```\n",
    "\n",
    "One can either type, instruction by instruction, in the Python shell or create a file, say example.py and run it as follows:\n",
    "\n",
    "```\n",
    "[aplf@crystal fp17]$ python3 juros.py \n",
    "Valor? 40000\n",
    "TANB (%)? 0.5\n",
    "Juros: 200.0\n",
    "[rui@crystal fp17]$\n",
    "```"
   ]
  },
  {
   "cell_type": "code",
   "execution_count": 56,
   "metadata": {
    "slideshow": {
     "slide_type": "slide"
    }
   },
   "outputs": [
    {
     "name": "stdout",
     "output_type": "stream",
     "text": [
      "Valor? 150\n",
      "TANB (%)? 40\n",
      "Juros: 60.0\n"
     ]
    }
   ],
   "source": [
    "valor = float(input('Valor? '))\n",
    "tanb = float(input('TANB (%)? '))\n",
    "juros = valor*tanb/100\n",
    "print('Juros:', juros)"
   ]
  },
  {
   "cell_type": "markdown",
   "metadata": {
    "slideshow": {
     "slide_type": "slide"
    }
   },
   "source": [
    "# <center>Instructions</center>\n",
    "\n",
    "- Conditional Execution (Selection)\n",
    "- Repetition"
   ]
  },
  {
   "cell_type": "markdown",
   "metadata": {
    "slideshow": {
     "slide_type": "slide"
    }
   },
   "source": [
    "# <center> Conditional Execution</center>\n",
    "\n",
    "```\n",
    "<if instr> ::=\n",
    "    if <condition>: NEWLINE\n",
    "    <block of instructions>\n",
    "    <alternative instructions>*\n",
    "    {<final alternative>}\n",
    "\n",
    "<alternative instructions> ::=\n",
    "    elif <condition>: NEWLINE\n",
    "    <block of instructions>\n",
    "\n",
    "<alternative final> ::=\n",
    "    else: NEWLINE\n",
    "    <block of instructions>\n",
    "\n",
    "<block of instructions> ::=\n",
    "    INDENT <sequence of instructions> DEDENT\n",
    "\n",
    "<condition> ::= <expression>\n",
    "```"
   ]
  },
  {
   "cell_type": "markdown",
   "metadata": {
    "slideshow": {
     "slide_type": "slide"
    }
   },
   "source": [
    "<center>![if_flow](imgs/if_flow.png)</center>\n"
   ]
  },
  {
   "cell_type": "markdown",
   "metadata": {},
   "source": [
    "# Yet another example\n",
    "\n",
    "```\n",
    "idade = 20\n",
    "if idade < 18:\n",
    "    print('Jovem')\n",
    "else:\n",
    "    print('Maior')\n",
    "```"
   ]
  },
  {
   "cell_type": "code",
   "execution_count": 62,
   "metadata": {
    "slideshow": {
     "slide_type": "slide"
    }
   },
   "outputs": [
    {
     "name": "stdout",
     "output_type": "stream",
     "text": [
      "Número: 10\n",
      "Even\n"
     ]
    }
   ],
   "source": [
    "#Exercise: read a number and print only if it is an even number\n",
    "number = int(input('Número: '))\n",
    "\n",
    "if number % 2 == 0:\n",
    "    print(\"Even\")\n",
    "else:\n",
    "    print(\"Odd\")\n"
   ]
  },
  {
   "cell_type": "markdown",
   "metadata": {
    "slideshow": {
     "slide_type": "slide"
    }
   },
   "source": [
    "\n",
    "# Exercise: Code the following in Python\n",
    "\n",
    "<center>![if_flow](imgs/example_ifs.png)</center>"
   ]
  },
  {
   "cell_type": "code",
   "execution_count": 71,
   "metadata": {
    "slideshow": {
     "slide_type": "slide"
    }
   },
   "outputs": [
    {
     "name": "stdout",
     "output_type": "stream",
     "text": [
      "Nota\n",
      "?-1\n",
      "ERRO\n"
     ]
    }
   ],
   "source": [
    "nota = eval(input(\"Nota\\n?\"))\n",
    "\n",
    "if nota > 20 or nota < 0:\n",
    "    print(\"ERRO\")  \n",
    "elif nota <= 4:\n",
    "    print(\"Mau\")  \n",
    "elif nota <= 9:\n",
    "    print(\"Mediocre\")\n",
    "elif nota <=13:\n",
    "    print(\"Suf\")\n",
    "elif nota <= 17:\n",
    "    print(\"bom\")\n",
    "elif nota <= 20:\n",
    "    print(\"MB\")"
   ]
  },
  {
   "cell_type": "code",
   "execution_count": 76,
   "metadata": {
    "slideshow": {
     "slide_type": "slide"
    }
   },
   "outputs": [
    {
     "name": "stdout",
     "output_type": "stream",
     "text": [
      "Numero 1: 10\n",
      "Numero 2: 20\n",
      "20\n"
     ]
    }
   ],
   "source": [
    "# Exercise: print the max value of two numbers. If they are equal, print both. \n",
    "\n",
    "x = int(input('Numero 1: '))\n",
    "y = int(input('Numero 2: '))\n",
    "\n",
    "\n",
    "if x > y:\n",
    "    print(x)\n",
    "elif x < y:\n",
    "    print(y)\n",
    "else:\n",
    "    print(\"Os numeros {} e {} sao iguais\".format(x,y))"
   ]
  },
  {
   "cell_type": "markdown",
   "metadata": {},
   "source": [
    "# Another, more complex, example\n",
    "\n",
    "```\n",
    "x = int(input('Introduza um número inteiro: '))\n",
    "\n",
    "if x < 0 and x%2 == 0:\n",
    "    print(x, 'é negativo e par')\n",
    "elif x < 0:\n",
    "    print(x, 'é negativo e ímpar')\n",
    "elif x%2 == 0:\n",
    "    print(x, 'é um número par')\n",
    "else:\n",
    "    print(x, 'é um número ímpar')\n",
    "```"
   ]
  },
  {
   "cell_type": "markdown",
   "metadata": {
    "slideshow": {
     "slide_type": "slide"
    }
   },
   "source": [
    "# <center>Repetitions</center>\n",
    "\n",
    "In Python, there are multiple ways to do repetitions. Examples are:\n",
    "- while\n",
    "- for\n",
    "\n",
    "```\n",
    "<while instruction> ::=\n",
    "    while <condition>: NEWLINE\n",
    "    <block of instructions>\n",
    "```\n",
    "\n",
    "```\n",
    "<break instruction> ::= break\n",
    "```\n"
   ]
  },
  {
   "cell_type": "markdown",
   "metadata": {
    "slideshow": {
     "slide_type": "slide"
    }
   },
   "source": [
    "# Example 1, while\n",
    "\n",
    "```\n",
    "soma = 0\n",
    "x = float(input('Introduza um número (negativo para terminar): '))\n",
    "\n",
    "while x >= 0:\n",
    "    soma = soma + x\n",
    "    x = float(input('Introduza um número (negativo para terminar): '))\n",
    "\n",
    "print(soma)```"
   ]
  },
  {
   "cell_type": "markdown",
   "metadata": {
    "slideshow": {
     "slide_type": "slide"
    }
   },
   "source": [
    "# Example 2, while\n",
    "\n",
    "```\n",
    "n = int(input('Introduza um número inteiro: '))\n",
    "d = 2\n",
    "\n",
    "print('Os pares de divisores de', n, 'são')\n",
    "\n",
    "print(1,'x',n)\n",
    "while True:\n",
    "    if d > n//d:\n",
    "        break\n",
    "    elif n%d == 0:\n",
    "        print(d, 'x', n//d)\n",
    "    d = d + 1\n",
    "```"
   ]
  },
  {
   "cell_type": "code",
   "execution_count": 80,
   "metadata": {
    "slideshow": {
     "slide_type": "slide"
    }
   },
   "outputs": [
    {
     "name": "stdout",
     "output_type": "stream",
     "text": [
      "Número? 56\n",
      "Debugging 56\n",
      "Debugging 5 6\n",
      "Debugging 6\n",
      "Debugging 5\n",
      "Debugging 0 5\n",
      "Debugging 11\n",
      "11\n"
     ]
    }
   ],
   "source": [
    "# Program to read an integer and sum all its digits\n",
    "# e.g., 7123 --> 7+1+2+3 = 13\n",
    "\n",
    "soma = 0\n",
    "num = int(input(\"Número? \"))\n",
    "while(num > 0):\n",
    "    print(\"Debugging\", num)\n",
    "    d = num % 10 # digit das unidades\n",
    "    num = num // 10 #resto dos digitos\n",
    "    print(\"Debugging {} {}\".format(num, d))\n",
    "    soma = soma + d\n",
    "    print(\"Debugging\", soma)\n",
    "\n",
    "print(soma)"
   ]
  },
  {
   "cell_type": "markdown",
   "metadata": {
    "slideshow": {
     "slide_type": "slide"
    }
   },
   "source": [
    "# Program to compute the prime factors of an integer\n",
    "\n",
    "<center>![primes](imgs/example_primes.png)</center>"
   ]
  },
  {
   "cell_type": "code",
   "execution_count": 86,
   "metadata": {
    "slideshow": {
     "slide_type": "slide"
    }
   },
   "outputs": [
    {
     "name": "stdout",
     "output_type": "stream",
     "text": [
      "Escreva um inteiro: 780\n",
      "Fatores Primos:\n",
      "2\n",
      "2\n",
      "3\n",
      "5\n",
      "13\n"
     ]
    }
   ],
   "source": [
    "num = eval(input(\"Escreva um inteiro: \"))\n",
    "\n",
    "divisor = 2\n",
    "print(\"Fatores Primos:\")\n",
    "while num != 1:\n",
    "    if num % divisor == 0:\n",
    "        print(divisor)\n",
    "        num = num // divisor\n",
    "    else:\n",
    "        divisor = divisor + 1"
   ]
  },
  {
   "cell_type": "code",
   "execution_count": 85,
   "metadata": {
    "slideshow": {
     "slide_type": "slide"
    }
   },
   "outputs": [
    {
     "data": {
      "text/plain": [
       "3.1622776601683795"
      ]
     },
     "execution_count": 85,
     "metadata": {},
     "output_type": "execute_result"
    }
   ],
   "source": [
    "#Program to print the square root of a number\n",
    "from math import sqrt\n",
    "\n",
    "sqrt(10)"
   ]
  }
 ],
 "metadata": {
  "celltoolbar": "Slideshow",
  "kernelspec": {
   "display_name": "Python 3",
   "language": "python",
   "name": "python3"
  },
  "language_info": {
   "codemirror_mode": {
    "name": "ipython",
    "version": 3
   },
   "file_extension": ".py",
   "mimetype": "text/x-python",
   "name": "python",
   "nbconvert_exporter": "python",
   "pygments_lexer": "ipython3",
   "version": "3.6.1"
  }
 },
 "nbformat": 4,
 "nbformat_minor": 2
}
